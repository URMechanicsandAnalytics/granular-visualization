{
 "cells": [
  {
   "cell_type": "code",
   "execution_count": null,
   "metadata": {
    "pycharm": {
     "name": "#%%\n"
    }
   },
   "outputs": [],
   "source": [
    "import granular_vis.sim_tools as sim_tools\n",
    "import local_paths as lp\n",
    "\n",
    "bed = sim_tools.SimParams(lp.earth)"
   ]
  },
  {
   "cell_type": "code",
   "execution_count": null,
   "metadata": {
    "collapsed": false,
    "pycharm": {
     "name": "#%%\n"
    }
   },
   "outputs": [],
   "source": [
    "values = {\n",
    "    \"box width\": bed.box_width,\n",
    "    \"box height\": bed.box_height,\n",
    "    \"data index\": bed.DATA_OFFSET,\n",
    "    \"dim index\": bed.DIM_OFFSET,\n",
    "    \"disc index\": bed.DISC_ID,\n",
    "    \"num ts\": bed.num_timesteps,\n",
    "    \"num particle\": bed.num_particles,\n",
    "    \"all fields\": bed.fields\n",
    "}\n",
    "for key,value in values.items():\n",
    "    print(f\"{key:13s}-> {value}\")"
   ]
  },
  {
   "cell_type": "code",
   "execution_count": null,
   "metadata": {
    "collapsed": false,
    "pycharm": {
     "name": "#%%\n"
    }
   },
   "outputs": [],
   "source": [
    "import matplotlib.pyplot as plt\n",
    "import numpy as np\n",
    "\n",
    "init_bed = bed.initial_state\n",
    "x_coords = np.array(init_bed.get_data('x',as_array=True))\n",
    "y_coords = np.array(init_bed.get_data('y',as_array=True))\n",
    "rad = np.array(init_bed.get_data('radius',as_array=True))\n",
    "\n",
    "subset = init_bed.is_greater('y',0.135)\n",
    "time = 10\n",
    "mid_bed = bed.get_bed_static(idx=time,include_only=subset)\n",
    "\n",
    "fig,(ax1,ax2) = plt.subplots(1,2,dpi=100,figsize=(12,6),sharey=\"row\")\n",
    "\n",
    "ax1.scatter(\n",
    "    np.array(init_bed.get_data('x',as_array=True)),\n",
    "    np.array(init_bed.get_data('y',as_array=True)),\n",
    "    s=np.array(init_bed.get_data('radius',as_array=True))*1500,\n",
    "    c=np.array(init_bed.get_data('radius',as_array=True)),\n",
    "    cmap='Greys'\n",
    ")\n",
    "ax2.scatter(\n",
    "    np.array(mid_bed.get_data('x',as_array=True)),\n",
    "    np.array(mid_bed.get_data('y',as_array=True)),\n",
    "    s=np.array(mid_bed.get_data('radius',as_array=True))*1500,\n",
    "    c=np.array(mid_bed.get_data('radius',as_array=True)),\n",
    "    cmap='Greys'\n",
    ")\n"
   ]
  },
  {
   "cell_type": "code",
   "execution_count": null,
   "metadata": {
    "collapsed": false,
    "pycharm": {
     "name": "#%%\n"
    }
   },
   "outputs": [],
   "source": [
    "bed.render_bed_single()\n",
    "exp_bed = bed.get_bed_dynamic(idx=time,include_only=subset)"
   ]
  },
  {
   "cell_type": "code",
   "execution_count": null,
   "metadata": {
    "collapsed": false,
    "pycharm": {
     "name": "#%%\n"
    }
   },
   "outputs": [],
   "source": [
    "for field in ['x','y','v_x','v_y','a_x','a_y']:\n",
    "    print(len(exp_bed.get_data(field,as_array=True)),end=\" \")"
   ]
  },
  {
   "cell_type": "code",
   "execution_count": null,
   "metadata": {},
   "outputs": [],
   "source": [
    "fig = plt.figure(dpi=175)\n",
    "\n",
    "xs = exp_bed.get_data('x',as_array=True)\n",
    "ys = exp_bed.get_data('y',as_array=True)\n",
    "v_xs = exp_bed.get_data('v_x',as_array=True)\n",
    "v_ys = exp_bed.get_data('v_y',as_array=True)\n",
    "\n",
    "for x,y,vx,vy in zip(xs,ys,v_xs,v_ys):\n",
    "    plt.arrow(\n",
    "        x,\n",
    "        y,\n",
    "        vx*10e2,\n",
    "        vy*10e2,\n",
    "        width=0.0005,\n",
    "        linewidth=0.01\n",
    "    )\n"
   ]
  }
 ],
 "metadata": {
  "kernelspec": {
   "display_name": "Python 3 (ipykernel)",
   "language": "python",
   "name": "python3"
  },
  "language_info": {
   "codemirror_mode": {
    "name": "ipython",
    "version": 3
   },
   "file_extension": ".py",
   "mimetype": "text/x-python",
   "name": "python",
   "nbconvert_exporter": "python",
   "pygments_lexer": "ipython3",
   "version": "3.10.7"
  },
  "vscode": {
   "interpreter": {
    "hash": "e7370f93d1d0cde622a1f8e1c04877d8463912d04d973331ad4851f04de6915a"
   }
  }
 },
 "nbformat": 4,
 "nbformat_minor": 2
}
